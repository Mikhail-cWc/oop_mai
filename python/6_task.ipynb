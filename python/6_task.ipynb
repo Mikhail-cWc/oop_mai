{
 "cells": [
  {
   "cell_type": "markdown",
   "id": "49944faf",
   "metadata": {},
   "source": [
    "# Самостоятельное задание #6\n",
    "\n",
    "\n",
    "### Задание 1\n",
    "\n",
    "\n",
    "Допишите функцию, которая принимает несколько параметров. Первый параметр - словарь, второй параметр - один из ключей данного словаря. Функция должна выводить значение этого ключа."
   ]
  },
  {
   "cell_type": "code",
   "execution_count": 1,
   "id": "3f41a526",
   "metadata": {},
   "outputs": [
    {
     "name": "stdout",
     "output_type": "stream",
     "text": [
      "806! <3\n"
     ]
    }
   ],
   "source": [
    "def func(dict, key):\n",
    "    return dict[key]\n",
    "a = {1:\"AXYET\", 2:\"pzdc\", 3:\"806! <3\"}\n",
    "print(func(a,3))"
   ]
  }
 ],
 "metadata": {
  "kernelspec": {
   "display_name": "Python 3 (ipykernel)",
   "language": "python",
   "name": "python3"
  },
  "language_info": {
   "codemirror_mode": {
    "name": "ipython",
    "version": 3
   },
   "file_extension": ".py",
   "mimetype": "text/x-python",
   "name": "python",
   "nbconvert_exporter": "python",
   "pygments_lexer": "ipython3",
   "version": "3.9.7"
  }
 },
 "nbformat": 4,
 "nbformat_minor": 5
}
