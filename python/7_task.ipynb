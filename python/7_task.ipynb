{
 "cells": [
  {
   "cell_type": "markdown",
   "id": "d89e88d8",
   "metadata": {},
   "source": [
    "# Самостоятельное задание #7\n",
    "\n",
    "\n",
    "### Задание 1\n",
    "\n",
    "Допишите функцию, которая принимает список чисел и, с помощью множеств, определяет количество различных чисел внутри списка."
   ]
  },
  {
   "cell_type": "code",
   "execution_count": 6,
   "id": "1b443f02",
   "metadata": {},
   "outputs": [
    {
     "name": "stdout",
     "output_type": "stream",
     "text": [
      "1 1 1 1 1 2 2 2 2 2 3 3 3 3 3 4\n",
      "4\n"
     ]
    }
   ],
   "source": [
    "def func(arr):\n",
    "    res = set(arr)\n",
    "    return len(res)\n",
    "arr = [int(a) for a in input().split()]\n",
    "print(func(arr))"
   ]
  },
  {
   "cell_type": "markdown",
   "id": "89118666",
   "metadata": {},
   "source": [
    "### Задание 2\n",
    "\n",
    "Допишите функцию, которая принимает несколько списков чисел и, с помощью множеств, определяет количество общих чисел из первого и второго списка."
   ]
  },
  {
   "cell_type": "code",
   "execution_count": 9,
   "id": "9ad5e3fd",
   "metadata": {},
   "outputs": [
    {
     "name": "stdout",
     "output_type": "stream",
     "text": [
      "1 1 1 1 2 2 2 3 3 900 874 323 123\n",
      "1 3 900 123 806 666 1234\n",
      "4\n"
     ]
    }
   ],
   "source": [
    "def func(arr1, arr2):\n",
    "    set1 = set(arr1)\n",
    "    set2 = set(arr2)\n",
    "    return len(set1.intersection(set1, set2))\n",
    "arr1 = [int(a) for a in input().split()]\n",
    "arr2 = [int(a) for a in input().split()]\n",
    "print(func(arr1, arr2))"
   ]
  }
 ],
 "metadata": {
  "kernelspec": {
   "display_name": "Python 3 (ipykernel)",
   "language": "python",
   "name": "python3"
  },
  "language_info": {
   "codemirror_mode": {
    "name": "ipython",
    "version": 3
   },
   "file_extension": ".py",
   "mimetype": "text/x-python",
   "name": "python",
   "nbconvert_exporter": "python",
   "pygments_lexer": "ipython3",
   "version": "3.9.7"
  }
 },
 "nbformat": 4,
 "nbformat_minor": 5
}
